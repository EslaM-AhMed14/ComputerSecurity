{
 "cells": [
  {
   "cell_type": "markdown",
   "id": "8a482f10",
   "metadata": {},
   "source": [
    "# Caesar Cipher"
   ]
  },
  {
   "cell_type": "code",
   "execution_count": 2,
   "id": "17a7bbb5",
   "metadata": {},
   "outputs": [],
   "source": [
    "def caesar_encryption(text,key):\n",
    "    result = \"\"\n",
    "    #remove all spaces \n",
    "    text = text.replace(\" \" , \"\")\n",
    "    \n",
    "   # transverse the plain text\n",
    "    for i in range(len(text)):\n",
    "        char = text[i]\n",
    "      # Encrypt uppercase characters in plain text\n",
    "      \n",
    "        if (char.isupper()):\n",
    "            result += chr((ord(char) + key - 65) % 26 + 65)\n",
    "      # Encrypt lowercase characters in plain text\n",
    "        elif (char.islower()):\n",
    "            result += chr((ord(char) + key - 97) % 26 + 97)\n",
    "        else:\n",
    "            result += char # to pass all Sample\n",
    "            \n",
    "    return result\n"
   ]
  },
  {
   "cell_type": "code",
   "execution_count": 5,
   "id": "df045461",
   "metadata": {},
   "outputs": [],
   "source": [
    "encryption_text = \"meetme after the toga party\"\n",
    "key = 25"
   ]
  },
  {
   "cell_type": "code",
   "execution_count": 9,
   "id": "781acdde",
   "metadata": {},
   "outputs": [
    {
     "name": "stdout",
     "output_type": "stream",
     "text": [
      "Plain Text : meetme after the toga party\n",
      "Shift pattern : 25\n",
      "Cipher: lddsldzesdqsgdsnfzozqsx\n"
     ]
    }
   ],
   "source": [
    "text_encrypt =  caesar_encryption(encryption_text,key)\n",
    "\n",
    "print (\"Plain Text : \" + encryption_text)\n",
    "print (\"Shift pattern : \" + str(key))\n",
    "print (\"Cipher: \" + text_encrypt)"
   ]
  },
  {
   "cell_type": "code",
   "execution_count": 10,
   "id": "58e00b8f",
   "metadata": {},
   "outputs": [],
   "source": [
    "def caesar_decrypt(text ,key ):\n",
    "    result = \"\"\n",
    "   # transverse the plain text\n",
    "    for i in range(len(text)):\n",
    "        char = text[i]\n",
    "      # decrypt uppercase characters in plain text\n",
    "      \n",
    "        if (char.isupper()):\n",
    "            result += chr((ord(char) - key - 65) % 26 + 65)\n",
    "      # Encrypt lowercase characters in plain text\n",
    "        elif(char.islower()):\n",
    "            result += chr((ord(char) - key - 97) % 26 + 97)\n",
    "        else:\n",
    "            result += char # to pass all Sample\n",
    "            \n",
    "    return result"
   ]
  },
  {
   "cell_type": "code",
   "execution_count": 11,
   "id": "a72cc343",
   "metadata": {},
   "outputs": [],
   "source": [
    "# using when have cipher text and need to know the plain text \n",
    "decreption_text = \"wesptevm\"\n",
    "dec_key = 14"
   ]
  },
  {
   "cell_type": "code",
   "execution_count": 12,
   "id": "168ae8be",
   "metadata": {},
   "outputs": [
    {
     "name": "stdout",
     "output_type": "stream",
     "text": [
      "Cipher Text : lddsldzesdqsgdsnfzozqsx\n",
      "Shift pattern : 25\n",
      "Plain: meetmeafterthetogaparty\n"
     ]
    }
   ],
   "source": [
    "print (\"Cipher Text : \" + text_encrypt)\n",
    "print (\"Shift pattern : \" + str(key))\n",
    "print (\"Plain: \" + caesar_decrypt(text_encrypt,key))"
   ]
  }
 ],
 "metadata": {
  "kernelspec": {
   "display_name": "Python 3 (ipykernel)",
   "language": "python",
   "name": "python3"
  },
  "language_info": {
   "codemirror_mode": {
    "name": "ipython",
    "version": 3
   },
   "file_extension": ".py",
   "mimetype": "text/x-python",
   "name": "python",
   "nbconvert_exporter": "python",
   "pygments_lexer": "ipython3",
   "version": "3.9.13"
  }
 },
 "nbformat": 4,
 "nbformat_minor": 5
}
