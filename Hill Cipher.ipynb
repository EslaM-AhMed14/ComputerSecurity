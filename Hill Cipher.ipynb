{
 "cells": [
  {
   "cell_type": "markdown",
   "metadata": {},
   "source": [
    "# Hill Cipher\n"
   ]
  },
  {
   "cell_type": "markdown",
   "metadata": {},
   "source": [
    "imports"
   ]
  },
  {
   "cell_type": "code",
   "execution_count": 2,
   "metadata": {},
   "outputs": [],
   "source": [
    "import string \n",
    "import numpy as np"
   ]
  },
  {
   "cell_type": "markdown",
   "metadata": {},
   "source": [
    "Hill encryption algorithm"
   ]
  },
  {
   "cell_type": "code",
   "execution_count": 3,
   "metadata": {},
   "outputs": [],
   "source": [
    "def hill_encryption ( text , key):\n",
    "    \n",
    "    #func: creat secret matrix \n",
    "    def matrix (key):\n",
    "        sqrt = int(np.sqrt(len(key)))\n",
    "        key = list(key)\n",
    "        key_matrix = np.array(list(map(int, key))).reshape(sqrt, sqrt)\n",
    "        return key_matrix\n",
    "    \n",
    "    # func: add padding letters if the text not the same length of the matrix key\n",
    "        # splilt the Text to sub text with the length of the matrix key , creat the vectors of sub Text\n",
    "    def Text_new(text):\n",
    "        sqrt = int(np.sqrt(len(key)))\n",
    "        text = list(text.lower().replace(\" \" , \"\"))\n",
    "        alphabet = list(string.ascii_lowercase)\n",
    "        \n",
    "        while (len(text)%sqrt) != 0 :\n",
    "                text.append(\"z\")\n",
    "        \n",
    "        text_new = []\n",
    "        for i in range(len(text)):\n",
    "            for j in range(len(alphabet)):\n",
    "                if text[i] == alphabet[j]:\n",
    "                    text_new.append(j)           \n",
    "        \n",
    "        num = len (text) // sqrt\n",
    "        text  = np.array(text_new).reshape(num , sqrt , 1)\n",
    "        \n",
    "        return text \n",
    "    \n",
    "    \n",
    "    Matrix = matrix (key) \n",
    "    Text = Text_new(text.lower())\n",
    "    result = \"\"\n",
    "    \n",
    "    print(\"Matrix\" );print( Matrix);print()\n",
    "    print(\"The plain text\");print(Text)\n",
    "    #apply hill cipher encryption\n",
    "    for i in range(len(Text)):\n",
    "        sub = np.mod(np.dot( Matrix , Text[i]), 26)\n",
    "        for j in range(len(Matrix)):\n",
    "            result+= chr(int(sub[j])+97)\n",
    "    \n",
    "    \n",
    "    return result\n",
    "    "
   ]
  },
  {
   "cell_type": "code",
   "execution_count": 6,
   "metadata": {},
   "outputs": [
    {
     "name": "stdout",
     "output_type": "stream",
     "text": [
      "the secret key -  from 1 to 10\n",
      "Matrix\n",
      "[[1 2]\n",
      " [3 4]]\n",
      "\n",
      "The plain text\n",
      "[[[ 4]\n",
      "  [18]]\n",
      "\n",
      " [[11]\n",
      "  [ 0]]\n",
      "\n",
      " [[12]\n",
      "  [ 0]]\n",
      "\n",
      " [[ 7]\n",
      "  [12]]\n",
      "\n",
      " [[ 4]\n",
      "  [ 3]]]\n",
      "Plain Text : ESLAMAHMED\n",
      "Cipher: oglhmkfrky\n"
     ]
    }
   ],
   "source": [
    "print(\"the secret key --  from 1 to 9\")\n",
    "      \n",
    "key= \"1234\"\n",
    "Plain_text = \"ESLAMAHMED\"\n",
    "\n",
    "text_encrypt = hill_encryption ( Plain_text , key)\n",
    "print (\"Plain Text : \" + Plain_text)\n",
    "print (\"Cipher: \" + text_encrypt)"
   ]
  }
 ],
 "metadata": {
  "kernelspec": {
   "display_name": "Python 3",
   "language": "python",
   "name": "python3"
  },
  "language_info": {
   "codemirror_mode": {
    "name": "ipython",
    "version": 3
   },
   "file_extension": ".py",
   "mimetype": "text/x-python",
   "name": "python",
   "nbconvert_exporter": "python",
   "pygments_lexer": "ipython3",
   "version": "3.9.13"
  },
  "orig_nbformat": 4
 },
 "nbformat": 4,
 "nbformat_minor": 2
}
