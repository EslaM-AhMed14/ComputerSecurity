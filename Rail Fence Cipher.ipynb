{
 "cells": [
  {
   "cell_type": "code",
   "execution_count": 1,
   "id": "83ae5738",
   "metadata": {},
   "outputs": [],
   "source": [
    "import numpy as np"
   ]
  },
  {
   "cell_type": "markdown",
   "id": "3423fbf3",
   "metadata": {},
   "source": [
    "# Encryption"
   ]
  },
  {
   "cell_type": "code",
   "execution_count": 2,
   "id": "b7270477",
   "metadata": {},
   "outputs": [],
   "source": [
    "def rail_fence_encrypt( text, key):\n",
    "    text = list(text)\n",
    "    matrix = [[\"\"] * len(text) for rows in range(key)]\n",
    "    k = [ i for i in  range (key)]\n",
    "    k_iv = k[1:-1]\n",
    "    k_iv.reverse()\n",
    "    i = 0\n",
    "    lin = len(text)\n",
    "    #creat matrix with letters in diagonal up to down ans so on, (Rail fence \"encryption\")\n",
    "    while i < lin:\n",
    "        for j in k :\n",
    "            if text != []:\n",
    "                matrix[j][i] = text[0]\n",
    "                text.pop(0)\n",
    "                i+=1\n",
    "        for n in k_iv:\n",
    "            if text !=[]:\n",
    "                matrix[n][i] = text[0] \n",
    "                text.pop(0)\n",
    "                i+=1\n",
    "    print(np.array(matrix).reshape((key , lin)))\n",
    "    \n",
    "    #read the cipher text from the matrix \n",
    "    result =\"\"\n",
    "    for i in range(key):\n",
    "        for j in range(lin):\n",
    "            result+=matrix[i][j]\n",
    "            \n",
    "    return result.upper()"
   ]
  },
  {
   "cell_type": "code",
   "execution_count": 3,
   "id": "e7d2d211",
   "metadata": {},
   "outputs": [
    {
     "name": "stdout",
     "output_type": "stream",
     "text": [
      "[['e' '' '' '' '' '' '' '' 'e' '' '' '' '' '' '' '' 'e' '']\n",
      " ['' 's' '' '' '' '' '' 'm' '' 'd' '' '' '' '' '' 'm' '' 'd']\n",
      " ['' '' 'l' '' '' '' 'h' '' '' '' 'm' '' '' '' 'm' '' '' '']\n",
      " ['' '' '' 'a' '' 'a' '' '' '' '' '' 'o' '' 'a' '' '' '' '']\n",
      " ['' '' '' '' 'm' '' '' '' '' '' '' '' 'h' '' '' '' '' '']]\n",
      "\n",
      "Cipher text :  EEESMDMDLHMMAAOAMH\n"
     ]
    }
   ],
   "source": [
    "depth = 5\n",
    "text = \"eslamahmedmohammed\"\n",
    "chiper = rail_fence_encrypt( text, depth)\n",
    "print (\"\\nCipher text : \",chiper )"
   ]
  },
  {
   "cell_type": "markdown",
   "id": "55f9b489",
   "metadata": {},
   "source": [
    "# Decryption"
   ]
  },
  {
   "cell_type": "code",
   "execution_count": 4,
   "id": "48e0784f",
   "metadata": {},
   "outputs": [],
   "source": [
    "def rail_fence_decrypt( text, key):\n",
    "    text = list(text)\n",
    "    matrix =[[\"\"] * len(text) for rows in range(key)]\n",
    "    text_ = [\"*\" for i in range(len(text))]\n",
    "    k = [ i for i in  range (key)]\n",
    "    k_iv = k[1:-1]\n",
    "    k_iv.reverse()\n",
    "    i = 0\n",
    "    lin = len(text)\n",
    "    \n",
    "    #put \"*\" in the correct place like encryption\n",
    "    while i < lin:\n",
    "        for j in k :\n",
    "            if text_ != []:\n",
    "                matrix[j][i] = text_[0]\n",
    "                text_.pop(0)\n",
    "                i+=1\n",
    "        for n in k_iv:\n",
    "            if text_ !=[]:\n",
    "                matrix[n][i] = text_[0] \n",
    "                text_.pop(0)\n",
    "                i+=1\n",
    "    \n",
    "    print(np.array(matrix).reshape((key , lin)) , end='\\n''\\n')\n",
    "    #replace \"*\" for corect litter\n",
    "    index = 0 \n",
    "    for i in range(key):\n",
    "        for j in range(lin):\n",
    "            if matrix[i][j] == \"*\":\n",
    "                matrix[i][j] = text[index]\n",
    "                index+=1\n",
    "                \n",
    "        \n",
    "    \n",
    "    print(np.array(matrix).reshape((key , lin)))\n",
    "    result = \"\"\n",
    "    l = 0\n",
    "    while l < lin:\n",
    "        for j in k :\n",
    "            if text != [] and matrix[j][l]!=\"\":\n",
    "                result += matrix[j][l]\n",
    "                text.pop()\n",
    "                l+=1\n",
    "        for n in k_iv:\n",
    "            if text!=[] and matrix[n][l]!=\"\":\n",
    "                result+= matrix[n][l] \n",
    "                text.pop()\n",
    "                l+=1\n",
    "    \n",
    "    return result"
   ]
  },
  {
   "cell_type": "code",
   "execution_count": 5,
   "id": "709a48ef",
   "metadata": {},
   "outputs": [
    {
     "name": "stdout",
     "output_type": "stream",
     "text": [
      "[['*' '' '' '' '' '' '' '' '*' '' '' '' '' '' '' '' '*' '']\n",
      " ['' '*' '' '' '' '' '' '*' '' '*' '' '' '' '' '' '*' '' '*']\n",
      " ['' '' '*' '' '' '' '*' '' '' '' '*' '' '' '' '*' '' '' '']\n",
      " ['' '' '' '*' '' '*' '' '' '' '' '' '*' '' '*' '' '' '' '']\n",
      " ['' '' '' '' '*' '' '' '' '' '' '' '' '*' '' '' '' '' '']]\n",
      "\n",
      "[['E' '' '' '' '' '' '' '' 'E' '' '' '' '' '' '' '' 'E' '']\n",
      " ['' 'S' '' '' '' '' '' 'M' '' 'D' '' '' '' '' '' 'M' '' 'D']\n",
      " ['' '' 'L' '' '' '' 'H' '' '' '' 'M' '' '' '' 'M' '' '' '']\n",
      " ['' '' '' 'A' '' 'A' '' '' '' '' '' 'O' '' 'A' '' '' '' '']\n",
      " ['' '' '' '' 'M' '' '' '' '' '' '' '' 'H' '' '' '' '' '']]\n",
      "\n",
      " Text:  ESLAMAHMEDMOHAMMED\n"
     ]
    }
   ],
   "source": [
    "plan_text = rail_fence_decrypt(chiper ,depth )\n",
    "\n",
    "print('\\n Text: ' ,plan_text)\n"
   ]
  }
 ],
 "metadata": {
  "kernelspec": {
   "display_name": "Python 3 (ipykernel)",
   "language": "python",
   "name": "python3"
  },
  "language_info": {
   "codemirror_mode": {
    "name": "ipython",
    "version": 3
   },
   "file_extension": ".py",
   "mimetype": "text/x-python",
   "name": "python",
   "nbconvert_exporter": "python",
   "pygments_lexer": "ipython3",
   "version": "3.9.13"
  }
 },
 "nbformat": 4,
 "nbformat_minor": 5
}
