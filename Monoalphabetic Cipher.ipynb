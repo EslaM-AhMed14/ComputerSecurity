{
 "cells": [
  {
   "cell_type": "markdown",
   "id": "96e43acc",
   "metadata": {},
   "source": [
    "# Monoalphabetic Cipher"
   ]
  },
  {
   "cell_type": "code",
   "execution_count": 2,
   "id": "56ad3cd8",
   "metadata": {},
   "outputs": [],
   "source": [
    "# fixed dictionary  using  \"example\" as key word\n",
    "\n",
    "dic = {'a':\"e\", 'b':\"x\", 'c':\"a\", 'd':\"m\", 'e':\"p\", 'f':\"l\", 'g':\"b\", 'h':\"c\", \n",
    "        'i':\"d\", 'j':\"f\", 'k':\"g\", 'l':\"h\", 'm':\"i\", 'n':\"j\",'o':\"k\", 'p':\"n\", \n",
    "        'q':\"o\", 'r':\"q\", 's':\"r\", 't':\"s\", 'u':\"t\", 'v':\"u\", 'w':\"v\", 'x':\"w\",\n",
    "        'y':\"y\", 'z':\"z\"}"
   ]
  },
  {
   "cell_type": "code",
   "execution_count": 11,
   "id": "b72ed5d0",
   "metadata": {},
   "outputs": [],
   "source": [
    "def monoencrypt(text , dictt):\n",
    "    string = \"\"\n",
    "    \n",
    "    for i in range(len(text)):\n",
    "        char = text[i]\n",
    "        for _, key in enumerate(dictt):\n",
    "            if(char == key):\n",
    "                string+= dic.get(key)\n",
    "        if(char == \" \"):\n",
    "            string+= \" \"\n",
    "    return string"
   ]
  },
  {
   "cell_type": "code",
   "execution_count": 13,
   "id": "05779d65",
   "metadata": {},
   "outputs": [
    {
     "name": "stdout",
     "output_type": "stream",
     "text": [
      "Plain Text : helloeslam\n",
      "Cipher: cphhkprhei\n"
     ]
    }
   ],
   "source": [
    "Plain_text = \"helloeslam\"\n",
    "\n",
    "tex_encrypt = monoencrypt(Plain_text , dic)\n",
    "\n",
    "print (\"Plain Text : \" + Plain_text)\n",
    "print (\"Cipher: \" + tex_encrypt)\n",
    "\n"
   ]
  },
  {
   "cell_type": "code",
   "execution_count": 5,
   "id": "7685e0ab",
   "metadata": {},
   "outputs": [],
   "source": [
    "def monodecrypt(text , dictt):\n",
    "    string = \"\"\n",
    "    \n",
    "    for i in range(len(text)):\n",
    "        char = text[i]\n",
    "        for _, key in enumerate(dictt):\n",
    "            if(char == dic.get(key)):\n",
    "                string+= key\n",
    "        if(char == \" \"):\n",
    "              string += char\n",
    "           \n",
    "    return string"
   ]
  },
  {
   "cell_type": "code",
   "execution_count": 14,
   "id": "95fc8cfc",
   "metadata": {},
   "outputs": [
    {
     "name": "stdout",
     "output_type": "stream",
     "text": [
      "Cipher Text : helloeslam\n",
      "Plain: helloeslam\n"
     ]
    }
   ],
   "source": [
    "Cipher_Text = monodecrypt(tex_encrypt , dic)\n",
    "\n",
    "print (\"Cipher Text : \" + Cipher_Text)\n",
    "print (\"Plain: \" + Plain_text)"
   ]
  },
  {
   "cell_type": "markdown",
   "id": "ea72fe7b",
   "metadata": {},
   "source": [
    "#  Monoalphabetic II \n"
   ]
  },
  {
   "cell_type": "code",
   "execution_count": 15,
   "id": "24293cad",
   "metadata": {},
   "outputs": [],
   "source": [
    "import string"
   ]
  },
  {
   "cell_type": "code",
   "execution_count": 18,
   "id": "c6d8b07d",
   "metadata": {},
   "outputs": [],
   "source": [
    "def mono_encryption(text , word):\n",
    "    AL = string.ascii_lowercase\n",
    "    AL_list = list(AL)\n",
    "    word = word.lower()+AL\n",
    "    word_list = list(word)\n",
    "    text = text.lower()\n",
    "   \n",
    "   # make the dectionary that we will use to encryption/ decryption process\n",
    "    result = []\n",
    "    for i in word_list: \n",
    "        if i not in result: \n",
    "            result.append(i)\n",
    "    \n",
    "    \n",
    "    # search for all letter in plain text in dectionary and replace it to corresponding characte\n",
    "    String= \"\"\n",
    "    for i in range(len(text)):\n",
    "        char = text[i]\n",
    "        \n",
    "        for key in AL_list:\n",
    "            if (char == key):\n",
    "                String += result[AL_list.index(key)]\n",
    "            elif (char == \" \"):\n",
    "                String+= \" \"\n",
    "             \n",
    "    return String\n",
    "    "
   ]
  },
  {
   "cell_type": "code",
   "execution_count": 26,
   "id": "7c08a22f",
   "metadata": {},
   "outputs": [
    {
     "name": "stdout",
     "output_type": "stream",
     "text": [
      "Plain Text : HelloStudents\n",
      "encrypt word : THEHILLSAREALIVE\n",
      "Cipher: rlddjopqilgpo\n"
     ]
    }
   ],
   "source": [
    "Plain_text = \"HelloStudents\"\n",
    "word_encrypt = \"THEHILLSAREALIVE\"\n",
    "\n",
    "\n",
    "\n",
    "text_encrypt = mono_encryption(Plain_text ,word_encrypt )\n",
    "\n",
    "print (\"Plain Text : \" + Plain_text)\n",
    "print (\"encrypt word : \" + word_encrypt)\n",
    "print (\"Cipher: \" + text_encrypt)"
   ]
  },
  {
   "cell_type": "code",
   "execution_count": 27,
   "id": "ed1d4480",
   "metadata": {},
   "outputs": [],
   "source": [
    "def mono_decryption(text , word):\n",
    "    AL = string.ascii_lowercase\n",
    "    AL_list = list(AL)\n",
    "    word = word.lower()+AL\n",
    "    word_list = list(word)\n",
    "    text = text.lower()\n",
    "    \n",
    "   # make the dectionary that we will use to encryption/ decryption process\n",
    "    result = []\n",
    "    for i in word_list: \n",
    "        if i not in result: \n",
    "            result.append(i)\n",
    "    \n",
    "    \n",
    "    # search for all letter in cipher text in dectionary and replace it to corresponding character\n",
    "    String= \"\"\n",
    "    for i in range(len(text)):\n",
    "        char = text[i]\n",
    "        \n",
    "        for key in result:\n",
    "            if (char == key):\n",
    "                String += AL_list[result.index(key)]\n",
    "            elif (char == \" \"):\n",
    "                String+= \" \"\n",
    "             \n",
    "    return String"
   ]
  },
  {
   "cell_type": "code",
   "execution_count": 30,
   "id": "3abb887a",
   "metadata": {},
   "outputs": [
    {
     "name": "stdout",
     "output_type": "stream",
     "text": [
      "Cipher: rlddjopqilgpo\n",
      "decrypt word : THEHILLSAREALIVE\n",
      "Plain Text : hellostudents\n"
     ]
    }
   ],
   "source": [
    "#using when have cipher text \n",
    "text = \"\"\n",
    "word_decrypt = \"\"\n",
    "\n",
    "\n",
    "\n",
    "text_dncrypt = mono_decryption(text_encrypt ,word_encrypt )\n",
    "\n",
    "print (\"Cipher: \" + text_encrypt)\n",
    "print (\"decrypt word : \" + word_encrypt)\n",
    "print (\"Plain Text : \" + text_dncrypt)\n",
    "\n"
   ]
  }
 ],
 "metadata": {
  "kernelspec": {
   "display_name": "Python 3 (ipykernel)",
   "language": "python",
   "name": "python3"
  },
  "language_info": {
   "codemirror_mode": {
    "name": "ipython",
    "version": 3
   },
   "file_extension": ".py",
   "mimetype": "text/x-python",
   "name": "python",
   "nbconvert_exporter": "python",
   "pygments_lexer": "ipython3",
   "version": "3.9.13"
  }
 },
 "nbformat": 4,
 "nbformat_minor": 5
}
