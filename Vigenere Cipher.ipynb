{
 "cells": [
  {
   "cell_type": "markdown",
   "metadata": {},
   "source": [
    "# vigenere Cipher"
   ]
  },
  {
   "cell_type": "markdown",
   "metadata": {},
   "source": [
    "imports "
   ]
  },
  {
   "cell_type": "code",
   "execution_count": 10,
   "metadata": {},
   "outputs": [],
   "source": [
    "import string"
   ]
  },
  {
   "cell_type": "markdown",
   "metadata": {},
   "source": [
    "Vigenere Encryption Algorithm"
   ]
  },
  {
   "cell_type": "code",
   "execution_count": 11,
   "metadata": {},
   "outputs": [],
   "source": [
    "def vigenere_encryption (Text , Keyword):\n",
    "    stg =  list(string.ascii_lowercase)\n",
    "    \n",
    "    Keyword = list( Keyword.lower())\n",
    "    Text = Text.lower()\n",
    "   # to convert the secret key to list of lettsers positons in alphabet\n",
    "    keylist= []\n",
    "    for i in range(len(Keyword)) : \n",
    "        for j in range(len(stg)):\n",
    "            if (stg[j]== Keyword[i]):\n",
    "                keylist.append(j)\n",
    "    \n",
    "    # to convert the plain Text to list of letters positions in alphabet\n",
    "    Textlist = []\n",
    "    for i in range(len(Text)):\n",
    "        for j in range(len(stg)):\n",
    "            if (Text[i] == stg[j]):\n",
    "                Textlist.append(j)\n",
    "    #applay vigenere encrption algorithm  (m+k) %26\n",
    "    result=\"\"\n",
    "    for i in range (len(Textlist)):\n",
    "        result+= stg[( Textlist[i] + (keylist[(i%len(keylist))]))%26]\n",
    "        \n",
    "        \n",
    "    print(\"Keylists \", keylist , end=\"\\n\\n\" )\n",
    "    print(\"Textlist \", Textlist , end= \"\\n\\n\")        \n",
    "    \n",
    "    return result\n",
    " "
   ]
  },
  {
   "cell_type": "code",
   "execution_count": 12,
   "metadata": {},
   "outputs": [
    {
     "name": "stdout",
     "output_type": "stream",
     "text": [
      "Keylists  [15, 17, 14, 6, 17, 0, 12, 4, 17]\n",
      "\n",
      "Textlist  [4, 18, 11, 0, 12, 0, 7, 12, 4, 3, 12, 14, 7, 0, 12, 12, 4, 3]\n",
      "\n",
      "Key text:  programer\n",
      "Plain text:  eslamahmedmohammed\n",
      "cipher text:  tjzgdatqvsdcnrmyiu\n"
     ]
    }
   ],
   "source": [
    "Key_text =  \"programer\"\n",
    "Plain_text =  \"eslamahmedmohammed\"\n",
    "\n",
    "cipher_text = vigenere_encryption(Plain_text , Key_text)\n",
    "\n",
    "print(\"Key text: \" ,Key_text)\n",
    "print(\"Plain text: \" , Plain_text)\n",
    "print(\"cipher text: \" , cipher_text)"
   ]
  },
  {
   "cell_type": "markdown",
   "metadata": {},
   "source": [
    "Vigenere Decryption Algorithm"
   ]
  },
  {
   "cell_type": "code",
   "execution_count": 13,
   "metadata": {},
   "outputs": [],
   "source": [
    "def vigenere_decryption (Text , Keyword):\n",
    "    stg =  list(string.ascii_lowercase)\n",
    "    Text = Text.lower()\n",
    "    Keyword = list( Keyword.lower())\n",
    "    \n",
    "    # to convert the secret key to list of lettsers positons in alphabet\n",
    "    keylist= []\n",
    "    for i in range(len(Keyword)): \n",
    "        for j in range(len(stg)):\n",
    "            if (stg[j]== Keyword[i]):\n",
    "                keylist.append(j)\n",
    "                \n",
    "    # to convert the chiper Text to list of letters positions in alphabet\n",
    "    Textlist = []\n",
    "    for i in range(len(Text)):\n",
    "        for j in range(len(stg)):\n",
    "            if (Text[i] == stg[j]):\n",
    "                Textlist.append(j)\n",
    "    \n",
    "    #applay vigenere decrption algorithm  (m-k) %26\n",
    "    result=\"\"\n",
    "    for i in range (len(Textlist)):\n",
    "        result+= stg[(Textlist[i] - keylist[(i-len(keylist))%len(keylist)])%26]\n",
    "    \n",
    "    print(\"Keylists \", keylist , end=\"\\n\\n\" )\n",
    "    print(\"Textlist \", Textlist , end= \"\\n\\n\")\n",
    "    return result   \n",
    " "
   ]
  },
  {
   "cell_type": "code",
   "execution_count": 14,
   "metadata": {},
   "outputs": [
    {
     "name": "stdout",
     "output_type": "stream",
     "text": [
      "Keylists  [15, 17, 14, 6, 17, 0, 12, 4, 17]\n",
      "\n",
      "Textlist  [19, 9, 25, 6, 3, 0, 19, 16, 21, 18, 3, 2, 13, 17, 12, 24, 8, 20]\n",
      "\n",
      "Key text:  programer\n",
      "cipher text:  tjzgdatqvsdcnrmyiu\n",
      "Plain text:  eslamahmedmohammed\n"
     ]
    }
   ],
   "source": [
    "#Key_text = \"\"\n",
    "#cipher_text= \"EslamAhmedMohamed\"\n",
    "\n",
    "\n",
    "Plain_text = vigenere_decryption(cipher_text , Key_text)\n",
    "print(\"Key text: \" ,Key_text)\n",
    "print(\"cipher text: \" , cipher_text)\n",
    "print(\"Plain text: \" , Plain_text)"
   ]
  }
 ],
 "metadata": {
  "kernelspec": {
   "display_name": "Python 3",
   "language": "python",
   "name": "python3"
  },
  "language_info": {
   "codemirror_mode": {
    "name": "ipython",
    "version": 3
   },
   "file_extension": ".py",
   "mimetype": "text/x-python",
   "name": "python",
   "nbconvert_exporter": "python",
   "pygments_lexer": "ipython3",
   "version": "3.9.13"
  },
  "orig_nbformat": 4
 },
 "nbformat": 4,
 "nbformat_minor": 2
}
